{
 "cells": [
  {
   "cell_type": "markdown",
   "id": "4be66751-59f4-450c-a6b1-faff99a1d558",
   "metadata": {
    "tags": []
   },
   "source": [
    "# PCA Guided exercise"
   ]
  },
  {
   "cell_type": "markdown",
   "id": "f89ef907-b521-45b4-aec6-c59015f10be8",
   "metadata": {},
   "source": [
    "### Bioinformatics course @ University of Minho, Braga, January 2023\n",
    "In this notebook we use some country-level statistics from the COVID-19 pandemic to explore the uses of PCA. The data is pre-processed and tailored to highlight some of the most relevant ideas.\n",
    "\n",
    "Questions & comments: leonardo.garma@gmail.com"
   ]
  },
  {
   "cell_type": "markdown",
   "id": "f485ff8e-52c1-4fb5-b4e1-bbafe4c61df7",
   "metadata": {},
   "source": [
    "# Intro"
   ]
  },
  {
   "cell_type": "markdown",
   "id": "66340244-621d-4437-b6ea-4463ac33632e",
   "metadata": {},
   "source": [
    "## Load libraries & data"
   ]
  },
  {
   "cell_type": "code",
   "execution_count": null,
   "id": "f2840371-78a3-4d0f-b0c1-b34fbf7480d9",
   "metadata": {},
   "outputs": [],
   "source": [
    "# First we load the required libraries\n",
    "import pandas as pd # Pandas handles dataframes\n",
    "import seaborn as sns # Seaborn is a convenient library to plot data from dataframes\n",
    "import numpy as np # Numpy has plenty of useful math functions\n",
    "import matplotlib.pyplot as plt # Pyplot is a basic plotting library for Python"
   ]
  },
  {
   "cell_type": "code",
   "execution_count": null,
   "id": "708c11b5-584e-48f5-9b9a-062ffe53e070",
   "metadata": {},
   "outputs": [],
   "source": [
    "# Read the data from the provided file. \n",
    "# OBS!!! Include the full path to the .csv file if this notebook and the .csv file are in different folders!\n",
    "df=pd.read_csv('covid_processed.csv',index_col=0)\n",
    "\n",
    "# IF you are on a Windows computer and you just downloaded the data it would look like this: \n",
    "# df=pd.read_csv('C:/Users/leona/Downloads/covid_processed.csv',index_col=0)"
   ]
  },
  {
   "cell_type": "markdown",
   "id": "1571af1c-0f85-4a21-9099-a8cf084aa489",
   "metadata": {},
   "source": [
    "## Explore the data"
   ]
  },
  {
   "cell_type": "code",
   "execution_count": null,
   "id": "5ed7e05e-c846-4806-b6ba-7274ba252680",
   "metadata": {},
   "outputs": [],
   "source": [
    "# Have a look at the data, see how big it is and look at the first lines\n",
    "print(df.shape)\n",
    "print(len(df))\n",
    "df.head(3)\n"
   ]
  },
  {
   "cell_type": "code",
   "execution_count": null,
   "id": "e6cd5e0a-9e6b-494f-8bb0-170f89a56ab1",
   "metadata": {},
   "outputs": [],
   "source": [
    "# You can SLICE the data to look at specific columns/rows\n",
    "df['Test_pc'] # Single column by name\n",
    "df[['Test_pc','Deaths']] # Multiple columns\n",
    "df.iloc[0] # Single row\n",
    "df.iloc[0:5] # Multiple rows\n",
    "df.iloc[0:5][['Test_pc','Deaths']] # Multiple rows and columns"
   ]
  },
  {
   "cell_type": "code",
   "execution_count": null,
   "id": "3ad49cda-2c5f-47be-896b-20985b602ee9",
   "metadata": {},
   "outputs": [],
   "source": [
    "# You can use CONDITIONS to SLICE the data (i.e. pick rows where a condition is met):\n",
    "# > larger than\n",
    "# < smaller than\n",
    "# == equal\n",
    "# != not equal\n",
    "df.loc[ df['Population']>0.5] # Rows with \"Population\" above 0.5 \n",
    "df.loc[ df['Population']>0.5, ['GDP_pc','Recovery_rate']] # Same but picking only two columns"
   ]
  },
  {
   "cell_type": "markdown",
   "id": "33e8a67e-58de-45e9-98fa-cb4b04b7300f",
   "metadata": {},
   "source": [
    "## Exercise 1\n",
    "How many countries have a GDP per capita (GDP_pc) above 0.9? Slice the dataset to show only the Population and Life Expectancy (Life exp) of these countries"
   ]
  },
  {
   "cell_type": "code",
   "execution_count": null,
   "id": "63a60719-f165-4d00-9977-fa492973d0c5",
   "metadata": {},
   "outputs": [],
   "source": [
    "## Write your answer here\n",
    "#\n",
    "#\n",
    "#"
   ]
  },
  {
   "cell_type": "markdown",
   "id": "f70b3177-04c3-4e54-a323-3c06ca2ce1ef",
   "metadata": {},
   "source": [
    "## Plot the data"
   ]
  },
  {
   "cell_type": "code",
   "execution_count": null,
   "id": "909c8c8e-4cdd-49f6-a0f6-5e348d3556a8",
   "metadata": {},
   "outputs": [],
   "source": [
    "# Let's try basic plotting functions from Seaborn\n",
    "plt.rcParams.update({'font.size': 10}) # Make the fonts a bit larger\n",
    "sns.barplot(data=df, x='Region',y='Population') # You do barplots using categories"
   ]
  },
  {
   "cell_type": "code",
   "execution_count": null,
   "id": "001ef897-ed56-48db-bf4e-470e25330b38",
   "metadata": {},
   "outputs": [],
   "source": [
    "sns.catplot(data=df, x='Region',y='Population',kind='strip') # Catplot can plot categorical data in a number of ways"
   ]
  },
  {
   "cell_type": "code",
   "execution_count": null,
   "id": "692c9482-1d7f-4e91-a040-32a5792243d2",
   "metadata": {},
   "outputs": [],
   "source": [
    "sns.catplot(data=df, x='Region',y='Population',kind='box') # Catplot can plot categorical data in a number of ways"
   ]
  },
  {
   "cell_type": "code",
   "execution_count": null,
   "id": "5db6ef54-468c-4075-adce-381e3fcd0416",
   "metadata": {},
   "outputs": [],
   "source": [
    "sns.scatterplot(data=df, x='GDP_pc',y='Population', hue='Life exp') # You can use scatterplots to compare numerical variables"
   ]
  },
  {
   "cell_type": "code",
   "execution_count": null,
   "id": "35682607-8ea7-4b11-ac63-75d1d54bf92d",
   "metadata": {},
   "outputs": [],
   "source": [
    "# Using Seaborn we can also have a quick look at all the variables at once\n",
    "plt.rcParams.update({'font.size': 16})\n",
    "sns.pairplot(df, hue=\"Region\")"
   ]
  },
  {
   "cell_type": "markdown",
   "id": "459daea8-e3e1-4261-920e-3439eadfc089",
   "metadata": {},
   "source": [
    "## Exercise 2\n",
    "Plot the Recovery rate (Recovery_rate) vs the number of tests per capita (Test_pc). \n",
    "Color the plot by population"
   ]
  },
  {
   "cell_type": "code",
   "execution_count": null,
   "id": "c4b1838f-40a2-4044-822e-2819e25a62cd",
   "metadata": {},
   "outputs": [],
   "source": [
    "## Write your answer here\n",
    "#\n",
    "#\n",
    "#"
   ]
  },
  {
   "cell_type": "markdown",
   "id": "1cdbad9c-1df2-48f0-bd52-c90ea356f8de",
   "metadata": {
    "tags": []
   },
   "source": [
    "# PCA example with 2 redundant features"
   ]
  },
  {
   "cell_type": "markdown",
   "id": "39798aed-17db-4ddb-8a2c-8f786acda9b9",
   "metadata": {},
   "source": [
    "## Exercise 3\n",
    "Create a new dataframe by Slicing the original data to keep only the \"Population\" and \"Deaths\" columns. See how these two variables relate to each other by plotting them together."
   ]
  },
  {
   "cell_type": "code",
   "execution_count": null,
   "id": "192d1241-3d12-4a51-b6f8-692ecc826d7b",
   "metadata": {},
   "outputs": [],
   "source": [
    "# Subsample data\n",
    "df2d=df[['Deaths','Population']]  #<--- Write your solution here \n",
    "sns.scatterplot() # <---- Fill in the missing parameters"
   ]
  },
  {
   "cell_type": "markdown",
   "id": "4025a190-d19c-4412-850b-22cb709b94e7",
   "metadata": {},
   "source": [
    "## Running PCA: \n",
    "We will use the [sci-kit learn](https://scikit-learn.org) library to do PCA on the 2D data we just created.    \n",
    "This library (sklearn) implements many machine learning and data analysis functions and algorithms. For PCA we will:\n",
    "- Load sklearn\n",
    "- Create an instance of a PCA object \n",
    "- Fit our data using this specific decomposition         \n",
    "\n",
    "We will obtain a **principalComponents** matrix describing our data in the PC space"
   ]
  },
  {
   "cell_type": "code",
   "execution_count": null,
   "id": "fc0cbb89-d91f-47e0-ad9d-73b506270eec",
   "metadata": {},
   "outputs": [],
   "source": [
    "# Run PCA with 2 components\n",
    "from sklearn.decomposition import PCA # Import library\n",
    "pca = PCA(n_components=2) # Instantiate the PCA object\n"
   ]
  },
  {
   "cell_type": "markdown",
   "id": "07c36219-6e28-40a1-92b9-1d3f8af49191",
   "metadata": {},
   "source": [
    "### *Why do we use n_components=2? What happens if you use a different number?"
   ]
  },
  {
   "cell_type": "code",
   "execution_count": null,
   "id": "1d596677-585a-48c1-9d39-65efb9bac118",
   "metadata": {},
   "outputs": [],
   "source": [
    "principalComponents = pca.fit_transform(df2d) # Use the PCA object to transform the data\n"
   ]
  },
  {
   "cell_type": "markdown",
   "id": "ef5d7c3b-2892-4187-881f-e575fa580419",
   "metadata": {},
   "source": [
    "## Exercise 4\n",
    "What are the dimensions of the principalComponents matrix?"
   ]
  },
  {
   "cell_type": "code",
   "execution_count": null,
   "id": "250c37f6-e158-43b6-a1cb-e434c2658ded",
   "metadata": {},
   "outputs": [],
   "source": [
    "## Write your answer here\n",
    "#\n",
    "#\n",
    "#"
   ]
  },
  {
   "cell_type": "code",
   "execution_count": null,
   "id": "42b9749f-fccf-4ce1-bdf7-4d91c461937e",
   "metadata": {},
   "outputs": [],
   "source": [
    "# Now we will put the projected data into a new data frame and plot it \n",
    "dfPCs = pd.DataFrame(data = principalComponents, columns = ['PC1', 'PC2']) # New dataframe\n",
    "dfPCs['Region']=df['Region'].values  # Copy the region and country names from the original data\n",
    "dfPCs['Country']=df.index.values\n",
    "\n",
    "# Check the new dataframe\n",
    "dfPCs.head(3)"
   ]
  },
  {
   "cell_type": "markdown",
   "id": "3c0c7041-a97c-402a-bb42-c62a2204858e",
   "metadata": {},
   "source": [
    "## Exercise 5\n",
    "Plot the data projected on the two PCs and color it by Country. **Notice the different scales of the two PCs!**\n",
    "\n",
    "\\* Use **plt.legend(bbox_to_anchor=(1.05, 1), loc='upper left', borderaxespad=0)** to move the legend outside the plot"
   ]
  },
  {
   "cell_type": "code",
   "execution_count": null,
   "id": "75b08ae9-c291-43c3-b5dc-e3238146a717",
   "metadata": {},
   "outputs": [],
   "source": [
    "sns.scatterplot(data=dfPCs, ... ) # <--- Fill in the blanks here\n",
    "plt.legend(bbox_to_anchor=(1.05, 1), loc='upper left', borderaxespad=0)"
   ]
  },
  {
   "cell_type": "markdown",
   "id": "997b5082-d051-40fc-a4da-9d3018cbd2d7",
   "metadata": {},
   "source": [
    "### Check the explained variance of each PC\n",
    "The pca object we created contains information about the decomposition. We can see how much variance is explained by each PC and how each original feature contributes to each PC."
   ]
  },
  {
   "cell_type": "code",
   "execution_count": null,
   "id": "992a8596-a297-4a5f-afb2-360a87d5b75a",
   "metadata": {},
   "outputs": [],
   "source": [
    "# See the variance ratios of the 2 PCs\n",
    "print(pca.explained_variance_ratio_)"
   ]
  },
  {
   "cell_type": "code",
   "execution_count": null,
   "id": "1b561287-b307-47fd-9665-28220d91df18",
   "metadata": {},
   "outputs": [],
   "source": [
    "# See the components of each PC\n",
    "print(pca.components_)"
   ]
  },
  {
   "cell_type": "markdown",
   "id": "a1951ef5-e903-4d4c-8a22-0df477f8959e",
   "metadata": {},
   "source": [
    "### To make this a bit more visual, we can overlay the PCs on the original data..."
   ]
  },
  {
   "cell_type": "code",
   "execution_count": null,
   "id": "88e74de0-c40a-4409-a008-36e033e150b3",
   "metadata": {},
   "outputs": [],
   "source": [
    "# Plot the two features and overlay the PCs scaled by their explained variance\n",
    "plt.rcParams['figure.figsize']=(6,6) # Adjust the figure size\n",
    "sns.scatterplot(data=df,x='Population',y='Deaths',hue='Region') # Plot the original data\n",
    "\n",
    "scale1=pca.explained_variance_ratio_[0] # Scale the first PC by its fraction of explained variance\n",
    "# Plot an arrow for the first PC\n",
    "plt.arrow(x=0.1, y=0.1, dx=pca.components_[0][0]*scale1,\n",
    "          dy=pca.components_[0][1]*scale1,color='r',head_width=0.05,\n",
    "         label='PC1')\n",
    "\n",
    "scale2=pca.explained_variance_ratio_[1] # Scale the second PC by its fraction of explained variance\n",
    "# Plot an arrow for the second PC\n",
    "plt.arrow(x=0.5, y=0.52, dx=pca.components_[1][0]*scale2,\n",
    "          dy=pca.components_[1][1]*scale2,color='b',head_width=0.03,\n",
    "          label='PC2')\n",
    "\n",
    "plt.legend(bbox_to_anchor=(1.02, 1), loc='upper left', borderaxespad=0) # Place the legend outside"
   ]
  },
  {
   "cell_type": "markdown",
   "id": "8d40d887-c099-4563-b966-418c37cd11e0",
   "metadata": {
    "tags": []
   },
   "source": [
    "# PCA example with 2 pairs of redundant features"
   ]
  },
  {
   "cell_type": "markdown",
   "id": "357630ee-1ac0-485b-ac78-4362f412e74c",
   "metadata": {},
   "source": [
    "### Exercise 6\n",
    "Subset the data to the columns 'Population','Deaths','GDP_pc','Deaths_per_M'. See how these features relate to each other and run PCA on it. You can follow these steps:\n",
    "- Create a new dataframe with only the 4 selected columns\n",
    "- Make a pairplot to visualize relationships in the data\n",
    "- Instantiate a PCA object with the **right** number of dimensions\n",
    "- Transform the data using the new PCA object\n",
    "\n",
    "How many PCs do you get?\n",
    "How are the explained variances distributed among the PCs? **How much variance would we retain if we use only the first 2 PCs?**\n"
   ]
  },
  {
   "cell_type": "code",
   "execution_count": null,
   "id": "2ee708fc-6675-4059-86bb-c0266c796143",
   "metadata": {},
   "outputs": [],
   "source": [
    "# Fill in the blanks below or implement a different solution\n",
    "\n",
    "df4d=df[[ ... ]] \n",
    "\n",
    "sns.pairplot( ... )\n",
    "\n",
    "pca=PCA(n_components= ...)\n",
    "\n",
    "principalComponents = ...\n"
   ]
  },
  {
   "cell_type": "markdown",
   "id": "ea58786e-412a-4131-9c48-d4186391d864",
   "metadata": {},
   "source": [
    "### PCA projections\n",
    "Now we can see how the data looks like on the different PCs and how they relate to the original features"
   ]
  },
  {
   "cell_type": "code",
   "execution_count": null,
   "id": "049b217a-3afe-40b7-bc6a-f8668be1f2ea",
   "metadata": {},
   "outputs": [],
   "source": [
    "# Make a dataframe with the projected data\n",
    "dfPCs = pd.DataFrame(data = principalComponents, columns = ['PC1', 'PC2','PC3','PC4']) # New dataframe\n",
    "dfPCs['Region']=df['Region'].values  # Copy the region and country names from the original data\n",
    "dfPCs['Country']=df.index.values"
   ]
  },
  {
   "cell_type": "code",
   "execution_count": null,
   "id": "0e7fcd85-10ef-4bcb-ad04-dee182e0eaec",
   "metadata": {},
   "outputs": [],
   "source": [
    "# Plot the data projected on the first two PCs\n",
    "sns.scatterplot(data=dfPCs,x='PC2',y='PC1',hue='Region')\n",
    "plt.legend(bbox_to_anchor=(1.02, 1), loc='upper left', borderaxespad=0)"
   ]
  },
  {
   "cell_type": "code",
   "execution_count": null,
   "id": "eaf13604-3c5a-4602-b8b4-d5efbbf9a10d",
   "metadata": {},
   "outputs": [],
   "source": [
    "# Plot the data projected on the first and last PCs \n",
    "# OBS!!! Notice the scales\n",
    "sns.scatterplot(data=dfPCs,x='PC1',y='PC4',hue='Region')\n",
    "plt.legend(bbox_to_anchor=(1.02, 1), loc='upper left', borderaxespad=0)"
   ]
  },
  {
   "cell_type": "markdown",
   "id": "dac5f25d-49e4-4706-97a4-f305c6d01e3f",
   "metadata": {},
   "source": [
    "#### We can use the *components_* attribute from the pca object to see the contributions of each feature to the PCs"
   ]
  },
  {
   "cell_type": "code",
   "execution_count": null,
   "id": "e1a77b78-bd8c-4cd3-b480-6c22364d760a",
   "metadata": {},
   "outputs": [],
   "source": [
    "# Use the loadings from the PCA object to make a new dataframe\n",
    "loadings=pd.DataFrame(pca.components_)\n",
    "# Name the columns after the original features \n",
    "loadings.columns=df4d.columns.values\n",
    "# Check the dataframe\n",
    "loadings"
   ]
  },
  {
   "cell_type": "markdown",
   "id": "2bb0660b-91fe-4dfc-bb56-f0cdb388e048",
   "metadata": {},
   "source": [
    "Here we have one row per PC, indicating the contribution of each feature to each PC. You can visualize it easily using barplots:"
   ]
  },
  {
   "cell_type": "code",
   "execution_count": null,
   "id": "200fe790-c2c2-4a2b-a5b3-d465abbea043",
   "metadata": {},
   "outputs": [],
   "source": [
    "sns.barplot(x=loadings.columns, y=loadings.iloc[0].values) # PC1"
   ]
  },
  {
   "cell_type": "code",
   "execution_count": null,
   "id": "e4163b07-8045-4cac-a8a4-3e5494a9edeb",
   "metadata": {},
   "outputs": [],
   "source": [
    "sns.barplot(x=loadings.columns, y=loadings.iloc[1].values) # PC2"
   ]
  },
  {
   "cell_type": "markdown",
   "id": "ed72178c-4a1f-4d7d-b8cd-c93eb80827d6",
   "metadata": {},
   "source": [
    "# PCA with non-informative features"
   ]
  },
  {
   "cell_type": "markdown",
   "id": "0d9e4b12-5fd6-432f-84e3-588e448b9122",
   "metadata": {},
   "source": [
    "#### Some of the features in the dataset have little or no variance. See the distribution of the Life expectancy and the Recovery rates:\n",
    "    "
   ]
  },
  {
   "cell_type": "code",
   "execution_count": null,
   "id": "22a38bfa-83a7-40c8-a08a-1e3dfcb533fe",
   "metadata": {},
   "outputs": [],
   "source": [
    "plt.rcParams['figure.figsize']=(12,2) #rescale figures\n",
    "plt.rcParams.update({'font.size': 16}) # Increase font\n",
    "sns.barplot(data=df,x=df.index,y='Life exp') # Plot the Life expectancy values for each country\n",
    "plt.tick_params(labelbottom=False) # Remove x-axis labels for clarity"
   ]
  },
  {
   "cell_type": "code",
   "execution_count": null,
   "id": "ebe5a047-a164-470f-a5b3-10aa08d203a7",
   "metadata": {},
   "outputs": [],
   "source": [
    "sns.barplot(data=df,x=df.index,y='Recovery_rate') # Plot the Recovery rates \n",
    "plt.tick_params(labelbottom=False) # Remove x-axis labels for clarity"
   ]
  },
  {
   "cell_type": "markdown",
   "id": "324cc744-ae95-4261-845a-656f0b303f59",
   "metadata": {},
   "source": [
    "## Exercise 7\n",
    "What happens when we include these features on the PCA? Slice the data to include all the features \n",
    "('Population','Deaths','GDP_pc','Deaths_per_M','Life exp','Recovery_rate') and run PCA with the **appropiate**\n",
    "number of components. Like on the previous exercise, you can:\n",
    "    \n",
    "- Create a new dataframe with the 6 features\n",
    "- Instantiate a PCA object with the **right** number of dimensions\n",
    "- Transform the data using the new PCA object\n",
    "\n",
    "How many PCs do you get this time?\n",
    "How are the explained variances distributed among the PCs? **How much variance are we keeping if we use the 2 first PCs?**\n"
   ]
  },
  {
   "cell_type": "code",
   "execution_count": null,
   "id": "adbf3d45-3a54-4796-80e9-b11e1d160c1b",
   "metadata": {},
   "outputs": [],
   "source": [
    "# Fill in the blanks below or implement a different solution\n",
    "\n",
    "df6d=df[[ ... ]] \n",
    "\n",
    "pca=PCA(n_components= ...)\n",
    "\n",
    "principalComponents = ..."
   ]
  },
  {
   "cell_type": "markdown",
   "id": "ab4c7e9c-de25-456a-a3e2-987bef676919",
   "metadata": {},
   "source": [
    "#### We can visualize the variance explained by each PC in a \"scree plot\" to decide how many we should keep"
   ]
  },
  {
   "cell_type": "code",
   "execution_count": null,
   "id": "d1771c67-e6ce-4564-861d-269a35cf82e5",
   "metadata": {},
   "outputs": [],
   "source": [
    "plt.rcParams['figure.figsize']=(8,8) # Adjust the plot features\n",
    "plt.rcParams.update({'font.size': 22})\n",
    "sns.scatterplot(x=['PC1', 'PC2','PC3','PC4','PC5','PC6'],y=pca.explained_variance_ratio_,s=200) # Plot the variance values\n"
   ]
  },
  {
   "cell_type": "markdown",
   "id": "aab353aa-0088-48d1-aa83-6b638ebe542f",
   "metadata": {},
   "source": [
    "#### Just like before, we can see the contributions of each feature to each PC. Notice which PCs relate to the Recovery rate and the Life Expectancy"
   ]
  },
  {
   "cell_type": "code",
   "execution_count": null,
   "id": "11878083-767a-44f9-9c61-a3d5373a3312",
   "metadata": {},
   "outputs": [],
   "source": [
    "# Use the loadings from the PCA object to make a new dataframe\n",
    "loadings=pd.DataFrame(pca.components_)\n",
    "# Name the columns after the original features \n",
    "loadings.columns=df6d.columns.values\n",
    "# Check the dataframe\n",
    "loadings"
   ]
  },
  {
   "cell_type": "code",
   "execution_count": null,
   "id": "c20a7221-e645-441f-aa3c-3e12681de8ea",
   "metadata": {},
   "outputs": [],
   "source": []
  }
 ],
 "metadata": {
  "kernelspec": {
   "display_name": "Python 3 (ipykernel)",
   "language": "python",
   "name": "python3"
  },
  "language_info": {
   "codemirror_mode": {
    "name": "ipython",
    "version": 3
   },
   "file_extension": ".py",
   "mimetype": "text/x-python",
   "name": "python",
   "nbconvert_exporter": "python",
   "pygments_lexer": "ipython3",
   "version": "3.9.7"
  }
 },
 "nbformat": 4,
 "nbformat_minor": 5
}
